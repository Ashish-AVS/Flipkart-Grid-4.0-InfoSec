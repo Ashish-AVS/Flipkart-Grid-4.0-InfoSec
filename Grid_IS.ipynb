{
 "cells": [
  {
   "cell_type": "code",
   "execution_count": 43,
   "id": "1360f135",
   "metadata": {},
   "outputs": [
    {
     "data": {
      "application/vnd.jupyter.widget-view+json": {
       "model_id": "c37c0cae5b95450db893f2430ac1a778",
       "version_major": 2,
       "version_minor": 0
      },
      "text/plain": [
       "GridspecLayout(children=(Button(button_style='success', description='There is 19% chance that the user is Mali…"
      ]
     },
     "metadata": {},
     "output_type": "display_data"
    }
   ],
   "source": [
    "import numpy as np\n",
    "import matplotlib.pyplot as plt\n",
    "from ipywidgets import interactive, HBox,Layout,Button,GridspecLayout\n",
    "plt.style.use('ggplot')\n",
    "from __future__ import division\n",
    "import numpy as np\n",
    "import matplotlib.pyplot as plt\n",
    "colors = ['g', 'r', 'g', 'r', 'g', 'r', 'g', 'r', 'g', 'r','g', 'r', 'g', 'r', 'g', 'r', 'g', 'r', 'g', 'r','g', 'r', 'g', 'r', 'g', 'r', 'g', 'r', 'g', 'r','g', 'r', 'g', 'r', 'g', 'r', 'g', 'r', 'g', 'r','g', 'r', 'g', 'r', 'g', 'r', 'g', 'r', 'g', 'r','g', 'r', 'g', 'r', 'g', 'r', 'g', 'r', 'g', 'r','g', 'r', 'g', 'r', 'g', 'r', 'g', 'r', 'g', 'r','g', 'r', 'g', 'r', 'g', 'r', 'g', 'r', 'g', 'r','g', 'r', 'g', 'r', 'g', 'r', 'g', 'r', 'g', 'r','g', 'r', 'g', 'r', 'g', 'r', 'g', 'r', 'g', 'r','g', 'r', 'g', 'r', 'g', 'r', 'g', 'r', 'g', 'r','g', 'r', 'g', 'r', 'g', 'r', 'g', 'r', 'g', 'r','g', 'r', 'g', 'r', 'g', 'r', 'g', 'r', 'g', 'r']\n",
    "\n",
    "def model_output(A, f, phi,color):\n",
    "    fig, ax = plt.subplots(figsize=(10,4))\n",
    "    ax.set_ylim([-4, 4])\n",
    "    ax.grid(True)\n",
    "    ax.set_xlabel('X')\n",
    "    ax.set_ylabel('Malicious')\n",
    "    ax.set_title('Plot')\n",
    "    fig.canvas.toolbar_position = 'bottom' \n",
    "    fig.canvas.header_visible = False \n",
    "    x = np.linspace(0, 2 * np.pi, 100)\n",
    "    y = A*np.sin(x*f + phi);\n",
    "    ax.plot(x,y,color)\n",
    "\n",
    "def dbscan(Stars, Folks, PRs_merged):\n",
    "    centers = [[Stars+1, -2],\n",
    "           [-1, Folks],\n",
    "           [PRs_merged, -6]]\n",
    "\n",
    "    sigmas = [[-0.8, 0.3],\n",
    "          [-0.3, 0.5],\n",
    "          [-1.1, 0.7]]\n",
    "\n",
    "    np.random.seed(42) \n",
    "    xpts = np.zeros(1)\n",
    "    ypts = np.zeros(1)\n",
    "    labels = np.zeros(1)\n",
    "    for i, ((xmu, ymu), (xsigma, ysigma)) in enumerate(zip(centers, sigmas)):\n",
    "        xpts = np.hstack((xpts, np.random.standard_normal(Stars*Folks) * xsigma + xmu))\n",
    "        ypts = np.hstack((ypts, np.random.standard_normal(Stars*Folks) * ysigma + ymu))\n",
    "        labels = np.hstack((labels, np.ones(Stars*Folks) * i))\n",
    "\n",
    "    fig0, ax0 = plt.subplots()\n",
    "    ax0 = plt.axes()\n",
    "    nd=1;\n",
    "    d=1;\n",
    "    x=0;\n",
    "    for label in range(Stars*Folks):\n",
    "        x+=1\n",
    "        if x%2:\n",
    "            ax0.plot(xpts[labels == label], ypts[labels == label], '.',color='g')\n",
    "            nd+=1;\n",
    "        else:\n",
    "            ax0.plot(xpts[labels == label], ypts[labels == label], '.',color='r')\n",
    "            d+=1;\n",
    "\n",
    "    ax0.set_title('Potential Threat to Repository')\n",
    "    plt.show()\n",
    "    if(Stars>Folks):\n",
    "        print(\"Malicious Percent\")\n",
    "        print((Stars*100/(Stars+Folks)))\n",
    "    else:\n",
    "        print(\"Not Malicious Percent\")\n",
    "        print((Folks*100/(Stars+Folks)-Folks*100/(Stars+Folks)))\n",
    "colors = ['blue', 'red', 'orange']\n",
    "stars = 8\n",
    "folks = 7\n",
    "prs = 5\n",
    "# widget = interactive(dbscan,7,7,9)\n",
    "widget = interactive(dbscan,Stars=(0, 10, 1),Folks=(0, 10, 1), PRs_merged=(0, 10, 1))\n",
    "controls = HBox(widget.children[:-1], layout = Layout(flex_flow='column wrap'),width='auto', height='auto')\n",
    "output = widget.children[-1]\n",
    "def create_expanded_button(description, button_style):\n",
    "    return Button(description=description, button_style=button_style, layout=Layout(height='auto', width='auto'))\n",
    "grid = GridspecLayout(17, 6, height='600px')\n",
    "percent = (int)(folks*stars*1.732/prs)\n",
    "grid[0,:] = create_expanded_button('There is'+' ' + str(percent) + '% chance that the user is Malicious', 'success')\n",
    "grid[2:15, 0:2] = controls\n",
    "grid[1:16, 2:] = output\n",
    "grid[16,:] = create_expanded_button('Team IdeaKart', 'info')\n",
    "grid\n"
   ]
  },
  {
   "cell_type": "code",
   "execution_count": null,
   "id": "71194e5b",
   "metadata": {},
   "outputs": [],
   "source": []
  }
 ],
 "metadata": {
  "kernelspec": {
   "display_name": "Python 3 (ipykernel)",
   "language": "python",
   "name": "python3"
  },
  "language_info": {
   "codemirror_mode": {
    "name": "ipython",
    "version": 3
   },
   "file_extension": ".py",
   "mimetype": "text/x-python",
   "name": "python",
   "nbconvert_exporter": "python",
   "pygments_lexer": "ipython3",
   "version": "3.9.12"
  }
 },
 "nbformat": 4,
 "nbformat_minor": 5
}
